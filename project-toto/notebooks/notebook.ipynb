{
 "cells": [
  {
   "cell_type": "code",
   "execution_count": 3,
   "metadata": {},
   "outputs": [
    {
     "name": "stdout",
     "output_type": "stream",
     "text": [
      "Hello my name is Tatchi\n"
     ]
    }
   ],
   "source": [
    "from toto.lib import who_am_i\n",
    "who_am_i()"
   ]
  },
  {
   "cell_type": "code",
   "execution_count": 4,
   "metadata": {},
   "outputs": [
    {
     "data": {
      "text/plain": [
       "['/home/tatchiwiggers/code/lewagon/04-Decision-Science/01-Project-Setup/data-context-and-setup',\n",
       " '/home/tatchiwiggers/code/batch-1752/train-at-scale/project-toto/notebooks',\n",
       " '/home/tatchiwiggers/.pyenv/versions/3.10.6/lib/python310.zip',\n",
       " '/home/tatchiwiggers/.pyenv/versions/3.10.6/lib/python3.10',\n",
       " '/home/tatchiwiggers/.pyenv/versions/3.10.6/lib/python3.10/lib-dynload',\n",
       " '',\n",
       " '/home/tatchiwiggers/.pyenv/versions/3.10.6/envs/totenv/lib/python3.10/site-packages']"
      ]
     },
     "execution_count": 4,
     "metadata": {},
     "output_type": "execute_result"
    }
   ],
   "source": [
    "import sys\n",
    "sys.path"
   ]
  },
  {
   "cell_type": "code",
   "execution_count": 5,
   "metadata": {},
   "outputs": [
    {
     "data": {
      "text/plain": [
       "'/home/tatchiwiggers/code/batch-1752/train-at-scale/project-toto/toto/__init__.py'"
      ]
     },
     "execution_count": 5,
     "metadata": {},
     "output_type": "execute_result"
    }
   ],
   "source": [
    "import toto\n",
    "toto.__file__"
   ]
  },
  {
   "cell_type": "code",
   "execution_count": null,
   "metadata": {},
   "outputs": [],
   "source": [
    "#With pip install .\n",
    "# '/home/tatchiwiggers/.pyenv/versions/3.10.6/envs/totenv/lib/python3.10/site-packages/toto/__init__.py'"
   ]
  }
 ],
 "metadata": {
  "kernelspec": {
   "display_name": "lewagon",
   "language": "python",
   "name": "python3"
  },
  "language_info": {
   "codemirror_mode": {
    "name": "ipython",
    "version": 3
   },
   "file_extension": ".py",
   "mimetype": "text/x-python",
   "name": "python",
   "nbconvert_exporter": "python",
   "pygments_lexer": "ipython3",
   "version": "3.10.6"
  }
 },
 "nbformat": 4,
 "nbformat_minor": 2
}
